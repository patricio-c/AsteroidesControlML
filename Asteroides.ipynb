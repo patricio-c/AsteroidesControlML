{
 "cells": [
  {
   "cell_type": "code",
   "execution_count": 1,
   "metadata": {},
   "outputs": [],
   "source": [
    "import numpy as np\n",
    "import pandas as pd\n",
    "\n",
    "import requests\n",
    "import json,os,datetime\n",
    "import csv\n",
    "from pandas import DataFrame\n",
    "from pprint import pprint\n",
    "import matplotlib.pyplot as plt\n",
    "import seaborn as sns #for beautiful plots\n",
    "%matplotlib inline\n",
    "import os\n",
    "from datetime import datetime\n",
    "from sklearn import decomposition\n",
    "from sklearn.model_selection import train_test_split\n",
    "from sklearn.metrics import roc_curve"
   ]
  },
  {
   "cell_type": "markdown",
   "metadata": {},
   "source": [
    "Lo primero es depurar los datos, para ello vamos a eliminar los datos que no vamos a usar o que la informacion es redundante. Recordemos que la idea principal que vamos a tratar es realizar mediante machine learning una clasificacion de asteroides segun su grado de peligrosidad de colision con la tierra"
   ]
  },
  {
   "cell_type": "code",
   "execution_count": 2,
   "metadata": {},
   "outputs": [
    {
     "data": {
      "text/plain": [
       "Index(['Neo Reference ID', 'Name', 'Absolute Magnitude', 'Est Dia in KM(min)',\n",
       "       'Est Dia in KM(max)', 'Est Dia in M(min)', 'Est Dia in M(max)',\n",
       "       'Est Dia in Miles(min)', 'Est Dia in Miles(max)',\n",
       "       'Est Dia in Feet(min)', 'Est Dia in Feet(max)', 'Close Approach Date',\n",
       "       'Epoch Date Close Approach', 'Relative Velocity km per sec',\n",
       "       'Relative Velocity km per hr', 'Miles per hour',\n",
       "       'Miss Dist.(Astronomical)', 'Miss Dist.(lunar)',\n",
       "       'Miss Dist.(kilometers)', 'Miss Dist.(miles)', 'Orbiting Body',\n",
       "       'Orbit ID', 'Orbit Determination Date', 'Orbit Uncertainity',\n",
       "       'Minimum Orbit Intersection', 'Jupiter Tisserand Invariant',\n",
       "       'Epoch Osculation', 'Eccentricity', 'Semi Major Axis', 'Inclination',\n",
       "       'Asc Node Longitude', 'Orbital Period', 'Perihelion Distance',\n",
       "       'Perihelion Arg', 'Aphelion Dist', 'Perihelion Time', 'Mean Anomaly',\n",
       "       'Mean Motion', 'Equinox', 'Hazardous'],\n",
       "      dtype='object')"
      ]
     },
     "execution_count": 2,
     "metadata": {},
     "output_type": "execute_result"
    }
   ],
   "source": [
    "data = pd.read_csv(\"nasa.csv\")\n",
    "data.keys()#veo los parametros y elijo cuales no me van a servir"
   ]
  },
  {
   "cell_type": "code",
   "execution_count": 3,
   "metadata": {},
   "outputs": [],
   "source": [
    "data.drop(columns=['Neo Reference ID','Equinox','Name','Orbiting Body',\n",
    "                   'Est Dia in M(min)', 'Est Dia in M(max)',\n",
    "           'Est Dia in Miles(min)', 'Est Dia in Miles(max)',\n",
    "           'Est Dia in Feet(min)', 'Est Dia in Feet(max)',\n",
    "           'Relative Velocity km per hr', 'Miles per hour',\n",
    "           'Miss Dist.(lunar)', 'Miss Dist.(kilometers)', 'Miss Dist.(miles)',\n",
    "           'Orbit Determination Date'], inplace=True)"
   ]
  },
  {
   "cell_type": "code",
   "execution_count": 4,
   "metadata": {},
   "outputs": [
    {
     "name": "stdout",
     "output_type": "stream",
     "text": [
      "Number of NULLS:  Absolute Magnitude= 0\n",
      "Number of NULLS:  Est Dia in KM(min)= 0\n",
      "Number of NULLS:  Est Dia in KM(max)= 0\n",
      "Number of NULLS:  Close Approach Date= 0\n",
      "Number of NULLS:  Epoch Date Close Approach= 0\n",
      "Number of NULLS:  Relative Velocity km per sec= 0\n",
      "Number of NULLS:  Miss Dist.(Astronomical)= 0\n",
      "Number of NULLS:  Orbit ID= 0\n",
      "Number of NULLS:  Orbit Uncertainity= 0\n",
      "Number of NULLS:  Minimum Orbit Intersection= 0\n",
      "Number of NULLS:  Jupiter Tisserand Invariant= 0\n",
      "Number of NULLS:  Epoch Osculation= 0\n",
      "Number of NULLS:  Eccentricity= 0\n",
      "Number of NULLS:  Semi Major Axis= 0\n",
      "Number of NULLS:  Inclination= 0\n",
      "Number of NULLS:  Asc Node Longitude= 0\n",
      "Number of NULLS:  Orbital Period= 0\n",
      "Number of NULLS:  Perihelion Distance= 0\n",
      "Number of NULLS:  Perihelion Arg= 0\n",
      "Number of NULLS:  Aphelion Dist= 0\n",
      "Number of NULLS:  Perihelion Time= 0\n",
      "Number of NULLS:  Mean Anomaly= 0\n",
      "Number of NULLS:  Mean Motion= 0\n",
      "Number of NULLS:  Hazardous= 0\n"
     ]
    }
   ],
   "source": [
    "#reviso si hay valores nulos en las columnas que quedaron\n",
    "isnull = data.isnull()\n",
    "for col in isnull.columns:\n",
    "    print('Number of NULLS: '+\" \"+col+\"=\",sum(isnull[col]))"
   ]
  },
  {
   "cell_type": "markdown",
   "metadata": {},
   "source": [
    "# visualizacion"
   ]
  },
  {
   "cell_type": "code",
   "execution_count": 5,
   "metadata": {},
   "outputs": [
    {
     "name": "stdout",
     "output_type": "stream",
     "text": [
      "Number of hazardous asteroids: 755\n",
      "Number of non-hazardous asteroids: 3932\n"
     ]
    }
   ],
   "source": [
    "# quiero saber si las muestras tienen en orden de magnitud la misma cantidad de datos\n",
    "print(f\"Number of hazardous asteroids: {sum(data['Hazardous'].values == True)}\")\n",
    "print(f\"Number of non-hazardous asteroids: {sum(data['Hazardous'].values == False)}\")"
   ]
  },
  {
   "cell_type": "code",
   "execution_count": 6,
   "metadata": {},
   "outputs": [
    {
     "data": {
      "image/png": "[encoded data removed]",
      "text/plain": [
       "<Figure size 432x288 with 1 Axes>"
      ]
     },
     "metadata": {
      "needs_background": "light"
     },
     "output_type": "display_data"
    }
   ],
   "source": [
    "pel = (data['Hazardous'].values == True) #de peligroso\n",
    "plt.hist(data['Absolute Magnitude'][pel], label='hazardous',\n",
    "           histtype='step', density=True, color='lightsalmon', linewidth=2)\n",
    "plt.hist(data['Absolute Magnitude'][~pel], label='safe',\n",
    "           density=True, histtype='step', color='deepskyblue', linewidth=2)\n",
    "plt.legend()\n",
    "plt.xlabel('Absolute Magnitude, M')\n",
    "plt.ylabel('dN/dM');"
   ]
  },
  {
   "cell_type": "code",
   "execution_count": 7,
   "metadata": {},
   "outputs": [
    {
     "data": {
      "text/plain": [
       "<matplotlib.collections.PathCollection at 0x7fb6060fac40>"
      ]
     },
     "execution_count": 7,
     "metadata": {},
     "output_type": "execute_result"
    },
    {
     "data": {
      "image/png": "[encoded data removed]",
      "text/plain": [
       "<Figure size 432x288 with 1 Axes>"
      ]
     },
     "metadata": {
      "needs_background": "light"
     },
     "output_type": "display_data"
    }
   ],
   "source": [
    "# seguimos sacando cosas redundantes, la relacion es lineal asique no nos sirve tener dos veces estos datos\n",
    "plt.scatter(data['Est Dia in KM(min)'], data['Est Dia in KM(max)'])"
   ]
  },
  {
   "cell_type": "code",
   "execution_count": 8,
   "metadata": {},
   "outputs": [],
   "source": [
    "data.drop(columns=['Est Dia in KM(max)'], inplace=True)"
   ]
  },
  {
   "cell_type": "code",
   "execution_count": 9,
   "metadata": {},
   "outputs": [],
   "source": [
    " #la columna que me dice si es peligroso o no la saco y defino el vector labels que me da 0 si no es peligroso y 1 si si lo es\n",
    "labels = np.array(data['Hazardous'])\n",
    "labels = np.array([1. if L else 0. for L in labels])\n",
    "data.drop(columns=['Hazardous'], inplace=True)"
   ]
  },
  {
   "cell_type": "code",
   "execution_count": 10,
   "metadata": {},
   "outputs": [
    {
     "data": {
      "text/plain": [
       "Index(['Absolute Magnitude', 'Est Dia in KM(min)', 'Close Approach Date',\n",
       "       'Epoch Date Close Approach', 'Relative Velocity km per sec',\n",
       "       'Miss Dist.(Astronomical)', 'Orbit ID', 'Orbit Uncertainity',\n",
       "       'Minimum Orbit Intersection', 'Jupiter Tisserand Invariant',\n",
       "       'Epoch Osculation', 'Eccentricity', 'Semi Major Axis', 'Inclination',\n",
       "       'Asc Node Longitude', 'Orbital Period', 'Perihelion Distance',\n",
       "       'Perihelion Arg', 'Aphelion Dist', 'Perihelion Time', 'Mean Anomaly',\n",
       "       'Mean Motion'],\n",
       "      dtype='object')"
      ]
     },
     "execution_count": 10,
     "metadata": {},
     "output_type": "execute_result"
    }
   ],
   "source": [
    "data.keys()\n"
   ]
  },
  {
   "cell_type": "code",
   "execution_count": 11,
   "metadata": {},
   "outputs": [
    {
     "name": "stdout",
     "output_type": "stream",
     "text": [
      "<class 'pandas.core.frame.DataFrame'>\n",
      "RangeIndex: 4687 entries, 0 to 4686\n",
      "Data columns (total 22 columns):\n",
      "Absolute Magnitude              4687 non-null float64\n",
      "Est Dia in KM(min)              4687 non-null float64\n",
      "Close Approach Date             4687 non-null object\n",
      "Epoch Date Close Approach       4687 non-null int64\n",
      "Relative Velocity km per sec    4687 non-null float64\n",
      "Miss Dist.(Astronomical)        4687 non-null float64\n",
      "Orbit ID                        4687 non-null int64\n",
      "Orbit Uncertainity              4687 non-null int64\n",
      "Minimum Orbit Intersection      4687 non-null float64\n",
      "Jupiter Tisserand Invariant     4687 non-null float64\n",
      "Epoch Osculation                4687 non-null float64\n",
      "Eccentricity                    4687 non-null float64\n",
      "Semi Major Axis                 4687 non-null float64\n",
      "Inclination                     4687 non-null float64\n",
      "Asc Node Longitude              4687 non-null float64\n",
      "Orbital Period                  4687 non-null float64\n",
      "Perihelion Distance             4687 non-null float64\n",
      "Perihelion Arg                  4687 non-null float64\n",
      "Aphelion Dist                   4687 non-null float64\n",
      "Perihelion Time                 4687 non-null float64\n",
      "Mean Anomaly                    4687 non-null float64\n",
      "Mean Motion                     4687 non-null float64\n",
      "dtypes: float64(18), int64(3), object(1)\n",
      "memory usage: 805.7+ KB\n"
     ]
    }
   ],
   "source": [
    "data.info()"
   ]
  },
  {
   "cell_type": "code",
   "execution_count": 12,
   "metadata": {},
   "outputs": [
    {
     "name": "stdout",
     "output_type": "stream",
     "text": [
      "<class 'pandas.core.frame.DataFrame'>\n",
      "RangeIndex: 4687 entries, 0 to 4686\n",
      "Data columns (total 22 columns):\n",
      "Absolute Magnitude              4687 non-null float64\n",
      "Est Dia in KM(min)              4687 non-null float64\n",
      "Close Approach Date             4687 non-null int64\n",
      "Epoch Date Close Approach       4687 non-null int64\n",
      "Relative Velocity km per sec    4687 non-null float64\n",
      "Miss Dist.(Astronomical)        4687 non-null float64\n",
      "Orbit ID                        4687 non-null int64\n",
      "Orbit Uncertainity              4687 non-null int64\n",
      "Minimum Orbit Intersection      4687 non-null float64\n",
      "Jupiter Tisserand Invariant     4687 non-null float64\n",
      "Epoch Osculation                4687 non-null float64\n",
      "Eccentricity                    4687 non-null float64\n",
      "Semi Major Axis                 4687 non-null float64\n",
      "Inclination                     4687 non-null float64\n",
      "Asc Node Longitude              4687 non-null float64\n",
      "Orbital Period                  4687 non-null float64\n",
      "Perihelion Distance             4687 non-null float64\n",
      "Perihelion Arg                  4687 non-null float64\n",
      "Aphelion Dist                   4687 non-null float64\n",
      "Perihelion Time                 4687 non-null float64\n",
      "Mean Anomaly                    4687 non-null float64\n",
      "Mean Motion                     4687 non-null float64\n",
      "dtypes: float64(18), int64(4)\n",
      "memory usage: 805.7 KB\n"
     ]
    }
   ],
   "source": [
    "# por las dudas esta no se si tirarla o no asique convierto el string en un numero, la cantidad de dias la cuento en funcion del valor mas chico que se ve a ojo\n",
    "data['Close Approach Date'][0]\n",
    "from datetime import datetime\n",
    "ref = datetime.strptime('1950-01-01', '%Y-%m-%d')\n",
    "dates = []\n",
    "for d in data['Close Approach Date']:\n",
    "    day = datetime.strptime(d, '%Y-%m-%d')\n",
    "    dif = (day - ref).days\n",
    "    dates.append(dif)\n",
    "# aca piso los datos de pandas y obtengo la nueva columna con los datos de los dias.\n",
    "data['Close Approach Date'] = dates\n",
    "data.info()"
   ]
  },
  {
   "cell_type": "code",
   "execution_count": 13,
   "metadata": {},
   "outputs": [],
   "source": [
    "#esto parece ser lo que entrena los datos, yo le doy los datos en data y le digo que esos datos van en relacion\n",
    "#al vector labels, quiero que me haga un test con un cuarto de la muestra y se entrene con el otro tercio\n",
    "res = train_test_split(data, labels, test_size = 0.25, random_state = 42)\n",
    "train_features, test_features, train_labels, test_labels = res"
   ]
  },
  {
   "cell_type": "code",
   "execution_count": 20,
   "metadata": {},
   "outputs": [
    {
     "name": "stdout",
     "output_type": "stream",
     "text": [
      "(47, 22)\n",
      "(4640, 22)\n",
      "(4687, 22)\n"
     ]
    }
   ],
   "source": [
    "# vemos como se hizo el test 1172 que es 1 cuarto y los otros tres cuartos se usaron para entrenar el RF \n",
    "print(test_features.shape)\n",
    "print(train_features.shape)\n",
    "print(data.shape)"
   ]
  },
  {
   "cell_type": "markdown",
   "metadata": {},
   "source": [
    "# RANDOM FOREST REGRESSION"
   ]
  },
  {
   "cell_type": "code",
   "execution_count": 30,
   "metadata": {},
   "outputs": [],
   "source": [
    "from sklearn.ensemble import RandomForestRegressor\n",
    "from sklearn.metrics import jaccard_score\n"
   ]
  },
  {
   "cell_type": "markdown",
   "metadata": {},
   "source": [
    "Obtenemos solo 3 puntos por que los posibles valores de la columna \"Hazardous' son binarios entonces pueden ser (0,0) , (1,1) o los falsos positivos (0,1)"
   ]
  },
  {
   "cell_type": "code",
   "execution_count": 54,
   "metadata": {},
   "outputs": [
    {
     "data": {
      "text/plain": [
       "<matplotlib.collections.PathCollection at 0x7fb603162d00>"
      ]
     },
     "execution_count": 54,
     "metadata": {},
     "output_type": "execute_result"
    },
    {
     "data": {
      "image/png": "[encoded data removed]",
      "text/plain": [
       "<Figure size 432x288 with 1 Axes>"
      ]
     },
     "metadata": {
      "needs_background": "light"
     },
     "output_type": "display_data"
    }
   ],
   "source": [
    "rf = RandomForestRegressor(n_estimators = 20, bootstrap=True)\n",
    "res = train_test_split(data, labels, test_size = 0.01, random_state = 10)\n",
    "train_features, test_features, train_labels, test_labels = res\n",
    "rf.fit(train_features, train_labels)\n",
    "predictions = rf.predict(test_features)\n",
    "a, b, c = roc_curve(test_labels, predictions)\n",
    "plt.scatter(a, b)"
   ]
  },
  {
   "cell_type": "code",
   "execution_count": 39,
   "metadata": {},
   "outputs": [],
   "source": [
    "# fit es el parametro que se usa para entrenar y predict para aplicarlo a los datos\n",
    "rf.fit(train_features, train_labels)\n",
    "\n",
    "y_pred = rf.predict(test_features)\n",
    "y_pred = np.rint(y_pred).astype(int)"
   ]
  },
  {
   "cell_type": "code",
   "execution_count": 40,
   "metadata": {},
   "outputs": [],
   "source": [
    "predictions = rf.predict(test_features)"
   ]
  },
  {
   "cell_type": "code",
   "execution_count": 48,
   "metadata": {},
   "outputs": [
    {
     "data": {
      "text/plain": [
       "47"
      ]
     },
     "execution_count": 48,
     "metadata": {},
     "output_type": "execute_result"
    }
   ],
   "source": [
    "len( test_labels)"
   ]
  },
  {
   "cell_type": "code",
   "execution_count": 41,
   "metadata": {},
   "outputs": [
    {
     "name": "stdout",
     "output_type": "stream",
     "text": [
      "Accuracy= 1.0\n"
     ]
    }
   ],
   "source": [
    "#accuracy \n",
    "errors = abs(predictions - test_labels)\n",
    "print('Accuracy=', np.sum(errors < 1.e-5)/ len(test_labels))"
   ]
  },
  {
   "cell_type": "code",
   "execution_count": 49,
   "metadata": {},
   "outputs": [
    {
     "data": {
      "text/plain": [
       "1.0"
      ]
     },
     "execution_count": 49,
     "metadata": {},
     "output_type": "execute_result"
    }
   ],
   "source": [
    "#esta funcion compara el conjunto de etiquetas predichas para una muestra con el conjunto correspondiente de etiquetas\n",
    "jaccard_score( test_labels , y_pred ,  average = 'binary')"
   ]
  },
  {
   "cell_type": "markdown",
   "metadata": {},
   "source": [
    "# REDUCCIOND DE DIMENSIONES: Manual y PCA"
   ]
  },
  {
   "cell_type": "code",
   "execution_count": 64,
   "metadata": {},
   "outputs": [
    {
     "name": "stdout",
     "output_type": "stream",
     "text": [
      "features nuevos [1.00000000e+00 4.37855979e-17 3.43410492e-18 5.83145976e-19]\n",
      "el valor de compaaracion es: 0.1\n",
      "Accuracy= 0.5319148936170213\n",
      "el valor de comparacion es: 0.0\n",
      "Accuracy= 0.0851063829787234\n"
     ]
    },
    {
     "data": {
      "image/png": "[encoded data removed]",
      "text/plain": [
       "<Figure size 432x288 with 1 Axes>"
      ]
     },
     "metadata": {
      "needs_background": "light"
     },
     "output_type": "display_data"
    }
   ],
   "source": [
    "#aca veo que solo con una rotacion en algun eje hay un solo feature que vale la pena considerar, aunque pierdo interpretabildad de los datos, veamos si de la forma manual existe otra posibilidad\n",
    "pca = decomposition.PCA(n_components=4)\n",
    "\n",
    "pca.fit(data)\n",
    "Reduc = pca.transform(data)        \n",
    "\n",
    "print('features nuevos',pca.explained_variance_ratio_)\n",
    "\n",
    "\n",
    "# RF (con 3 arboles)\n",
    "rf = RandomForestRegressor(n_estimators = 3, bootstrap=True)\n",
    "res = train_test_split(Reduc, labels, test_size = 0.01, random_state = 10)\n",
    "train_features, test_features, train_labels, test_labels = res\n",
    "rf.fit(train_features, train_labels)\n",
    "predictions = rf.predict(test_features)\n",
    "a, b, c = roc_curve(test_labels, predictions)\n",
    "plt.scatter(a, b,label='3 arboles')\n",
    "rf.fit(train_features, train_labels)\n",
    "y_pred = rf.predict(test_features)\n",
    "y_pred = np.rint(y_pred).astype(int)\n",
    "print('el valor de compaaracion es:' , jaccard_score( test_labels , y_pred ,  average = 'binary'))\n",
    "errors = abs(predictions - test_labels)\n",
    "print('Accuracy=', np.sum(errors < 1.e-5)/ len(test_labels))\n",
    "plt.legend()\n",
    "\n",
    "# RF (con 50 arboles)\n",
    "rf = RandomForestRegressor(n_estimators = 50, bootstrap=True)\n",
    "res = train_test_split(Reduc, labels, test_size = 0.01, random_state = 10)\n",
    "train_features, test_features, train_labels, test_labels = res\n",
    "rf.fit(train_features, train_labels)\n",
    "predictions = rf.predict(test_features)\n",
    "a, b, c = roc_curve(test_labels, predictions)\n",
    "plt.scatter(a, b,label='50 arboles')\n",
    "rf.fit(train_features, train_labels)\n",
    "y_pred = rf.predict(test_features)\n",
    "y_pred = np.rint(y_pred).astype(int)\n",
    "print('el valor de comparacion es:' , jaccard_score( test_labels , y_pred ,  average = 'binary'))\n",
    "errors = abs(predictions - test_labels)\n",
    "print('Accuracy=', np.sum(errors < 1.e-5)/ len(test_labels))\n",
    "plt.legend()"
   ]
  },
  {
   "cell_type": "code",
   "execution_count": 63,
   "metadata": {},
   "outputs": [
    {
     "name": "stdout",
     "output_type": "stream",
     "text": [
      "el valor de compaaracion es: 0.3\n",
      "Accuracy= 0.7446808510638298\n",
      "el valor de compaaracion es: 0.4444444444444444\n",
      "Accuracy= 0.5319148936170213\n"
     ]
    },
    {
     "data": {
      "image/png": "[encoded data removed]",
      "text/plain": [
       "<Figure size 432x288 with 1 Axes>"
      ]
     },
     "metadata": {
      "needs_background": "light"
     },
     "output_type": "display_data"
    }
   ],
   "source": [
    "#reduccion manual\n",
    "d = data[['Absolute Magnitude','Orbital Period','Inclination',\n",
    "          'Est Dia in KM(min)','Eccentricity']]\n",
    "\n",
    "# RF (con 3 arboles)\n",
    "rf = RandomForestRegressor(n_estimators = 3, bootstrap=True)\n",
    "res = train_test_split(d, labels, test_size = 0.01, random_state = 10)\n",
    "train_features, test_features, train_labels, test_labels = res\n",
    "rf.fit(train_features, train_labels)\n",
    "predictions = rf.predict(test_features)\n",
    "a, b, c = roc_curve(test_labels, predictions)\n",
    "plt.scatter(a, b,label='3 arboles')\n",
    "rf.fit(train_features, train_labels)\n",
    "y_pred = rf.predict(test_features)\n",
    "y_pred = np.rint(y_pred).astype(int)\n",
    "print('el valor de compaaracion es:' , jaccard_score( test_labels , y_pred ,  average = 'binary'))\n",
    "errors = abs(predictions - test_labels)\n",
    "print('Accuracy=', np.sum(errors < 1.e-5)/ len(test_labels))\n",
    "plt.legend()\n",
    "\n",
    "# RF (con 50 arboles)\n",
    "rf = RandomForestRegressor(n_estimators = 50, bootstrap=True)\n",
    "res = train_test_split(d, labels, test_size = 0.01, random_state = 10)\n",
    "train_features, test_features, train_labels, test_labels = res\n",
    "rf.fit(train_features, train_labels)\n",
    "predictions = rf.predict(test_features)\n",
    "a, b, c = roc_curve(test_labels, predictions)\n",
    "plt.scatter(a, b,label='50 arboles')\n",
    "rf.fit(train_features, train_labels)\n",
    "y_pred = rf.predict(test_features)\n",
    "y_pred = np.rint(y_pred).astype(int)\n",
    "print('el valor de comparacion es:' , jaccard_score( test_labels , y_pred ,  average = 'binary'))\n",
    "errors = abs(predictions - test_labels)\n",
    "print('Accuracy=', np.sum(errors < 1.e-5)/ len(test_labels))\n",
    "plt.legend()"
   ]
  },
  {
   "cell_type": "markdown",
   "metadata": {},
   "source": [
    "# Conclusion\n",
    "Cuando hacemos la asignacion de etiquetas usando random Forest vemos a traves del calculo de Acurrancy algo que tambien se puede visualizar en la curva Roc, la clasificacion de un asteroide si es peligroso o no se hace justamente con un arbol de desiciones. Al aplicarle el proceso de un aprendizaje supervisado que son arboles de desiciones recuperamos el resultado. Esto nos da rienda suelta a explorar mas con el metodo y ver si al reducir las dimensiones (lo hacemos de dos maneras) y comparamos la acurrancy que es un parametro numerico que nos dice que tan bueno es mi modelo para predicir valores y con otra funcion  jaccard que nos dice solo en el caso binario. Llegamos a la conclusion que aparte de la solucion trivial encontrada, haciendo reducccion de dimension manual y con 3 arboles se llega a una muy buena deteccion de etiquetas del modelo, se propone ahora una reduccion sistematica en trabajos futuros donde se hagan varios conjuntos de data y se eliminen sistematicamente algunas columnas para lograr una mejor eficiencia de los modelos y encontrar los features que combina PCA para asignar estas etiquetas."
   ]
  },
  {
   "cell_type": "code",
   "execution_count": null,
   "metadata": {},
   "outputs": [],
   "source": []
  }
 ],
 "metadata": {
  "kernelspec": {
   "display_name": "Python 3",
   "language": "python",
   "name": "python3"
  },
  "language_info": {
   "codemirror_mode": {
    "name": "ipython",
    "version": 3
   },
   "file_extension": ".py",
   "mimetype": "text/x-python",
   "name": "python",
   "nbconvert_exporter": "python",
   "pygments_lexer": "ipython3",
   "version": "3.8.5"
  }
 },
 "nbformat": 4,
 "nbformat_minor": 4
}
